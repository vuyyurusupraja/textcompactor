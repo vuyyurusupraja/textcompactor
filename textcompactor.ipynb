{
  "cells": [
    {
      "cell_type": "code",
      "execution_count": null,
      "metadata": {
        "colab": {
          "base_uri": "https://localhost:8080/"
        },
        "id": "Kwjl7webRdOt",
        "outputId": "514a0ab5-3382-46fe-d1b0-372da644159d"
      },
      "outputs": [
        {
          "name": "stdout",
          "output_type": "stream",
          "text": [
            "Looking in indexes: https://pypi.org/simple, https://us-python.pkg.dev/colab-wheels/public/simple/\n",
            "Requirement already satisfied: spacy in /usr/local/lib/python3.9/dist-packages (3.5.1)\n",
            "Requirement already satisfied: tqdm<5.0.0,>=4.38.0 in /usr/local/lib/python3.9/dist-packages (from spacy) (4.65.0)\n",
            "Requirement already satisfied: pathy>=0.10.0 in /usr/local/lib/python3.9/dist-packages (from spacy) (0.10.1)\n",
            "Requirement already satisfied: srsly<3.0.0,>=2.4.3 in /usr/local/lib/python3.9/dist-packages (from spacy) (2.4.6)\n",
            "Requirement already satisfied: typer<0.8.0,>=0.3.0 in /usr/local/lib/python3.9/dist-packages (from spacy) (0.7.0)\n",
            "Requirement already satisfied: langcodes<4.0.0,>=3.2.0 in /usr/local/lib/python3.9/dist-packages (from spacy) (3.3.0)\n",
            "Requirement already satisfied: numpy>=1.15.0 in /usr/local/lib/python3.9/dist-packages (from spacy) (1.22.4)\n",
            "Requirement already satisfied: spacy-loggers<2.0.0,>=1.0.0 in /usr/local/lib/python3.9/dist-packages (from spacy) (1.0.4)\n",
            "Requirement already satisfied: setuptools in /usr/local/lib/python3.9/dist-packages (from spacy) (63.4.3)\n",
            "Requirement already satisfied: cymem<2.1.0,>=2.0.2 in /usr/local/lib/python3.9/dist-packages (from spacy) (2.0.7)\n",
            "Requirement already satisfied: requests<3.0.0,>=2.13.0 in /usr/local/lib/python3.9/dist-packages (from spacy) (2.27.1)\n",
            "Requirement already satisfied: thinc<8.2.0,>=8.1.8 in /usr/local/lib/python3.9/dist-packages (from spacy) (8.1.9)\n",
            "Requirement already satisfied: spacy-legacy<3.1.0,>=3.0.11 in /usr/local/lib/python3.9/dist-packages (from spacy) (3.0.12)\n",
            "Requirement already satisfied: wasabi<1.2.0,>=0.9.1 in /usr/local/lib/python3.9/dist-packages (from spacy) (1.1.1)\n",
            "Requirement already satisfied: jinja2 in /usr/local/lib/python3.9/dist-packages (from spacy) (3.1.2)\n",
            "Requirement already satisfied: preshed<3.1.0,>=3.0.2 in /usr/local/lib/python3.9/dist-packages (from spacy) (3.0.8)\n",
            "Requirement already satisfied: catalogue<2.1.0,>=2.0.6 in /usr/local/lib/python3.9/dist-packages (from spacy) (2.0.8)\n",
            "Requirement already satisfied: smart-open<7.0.0,>=5.2.1 in /usr/local/lib/python3.9/dist-packages (from spacy) (6.3.0)\n",
            "Requirement already satisfied: packaging>=20.0 in /usr/local/lib/python3.9/dist-packages (from spacy) (23.0)\n",
            "Requirement already satisfied: murmurhash<1.1.0,>=0.28.0 in /usr/local/lib/python3.9/dist-packages (from spacy) (1.0.9)\n",
            "Requirement already satisfied: pydantic!=1.8,!=1.8.1,<1.11.0,>=1.7.4 in /usr/local/lib/python3.9/dist-packages (from spacy) (1.10.6)\n",
            "Requirement already satisfied: typing-extensions>=4.2.0 in /usr/local/lib/python3.9/dist-packages (from pydantic!=1.8,!=1.8.1,<1.11.0,>=1.7.4->spacy) (4.5.0)\n",
            "Requirement already satisfied: idna<4,>=2.5 in /usr/local/lib/python3.9/dist-packages (from requests<3.0.0,>=2.13.0->spacy) (3.4)\n",
            "Requirement already satisfied: charset-normalizer~=2.0.0 in /usr/local/lib/python3.9/dist-packages (from requests<3.0.0,>=2.13.0->spacy) (2.0.12)\n",
            "Requirement already satisfied: certifi>=2017.4.17 in /usr/local/lib/python3.9/dist-packages (from requests<3.0.0,>=2.13.0->spacy) (2022.12.7)\n",
            "Requirement already satisfied: urllib3<1.27,>=1.21.1 in /usr/local/lib/python3.9/dist-packages (from requests<3.0.0,>=2.13.0->spacy) (1.26.15)\n",
            "Requirement already satisfied: confection<1.0.0,>=0.0.1 in /usr/local/lib/python3.9/dist-packages (from thinc<8.2.0,>=8.1.8->spacy) (0.0.4)\n",
            "Requirement already satisfied: blis<0.8.0,>=0.7.8 in /usr/local/lib/python3.9/dist-packages (from thinc<8.2.0,>=8.1.8->spacy) (0.7.9)\n",
            "Requirement already satisfied: click<9.0.0,>=7.1.1 in /usr/local/lib/python3.9/dist-packages (from typer<0.8.0,>=0.3.0->spacy) (8.1.3)\n",
            "Requirement already satisfied: MarkupSafe>=2.0 in /usr/local/lib/python3.9/dist-packages (from jinja2->spacy) (2.1.2)\n",
            "/usr/local/lib/python3.9/dist-packages/torch/cuda/__init__.py:497: UserWarning: Can't initialize NVML\n",
            "  warnings.warn(\"Can't initialize NVML\")\n",
            "2023-03-18 04:06:27.653763: I tensorflow/core/platform/cpu_feature_guard.cc:193] This TensorFlow binary is optimized with oneAPI Deep Neural Network Library (oneDNN) to use the following CPU instructions in performance-critical operations:  AVX2 FMA\n",
            "To enable them in other operations, rebuild TensorFlow with the appropriate compiler flags.\n",
            "2023-03-18 04:06:28.840477: W tensorflow/compiler/xla/stream_executor/platform/default/dso_loader.cc:64] Could not load dynamic library 'libnvinfer.so.7'; dlerror: libnvinfer.so.7: cannot open shared object file: No such file or directory; LD_LIBRARY_PATH: /usr/local/nvidia/lib:/usr/local/nvidia/lib64\n",
            "2023-03-18 04:06:28.840878: W tensorflow/compiler/xla/stream_executor/platform/default/dso_loader.cc:64] Could not load dynamic library 'libnvinfer_plugin.so.7'; dlerror: libnvinfer_plugin.so.7: cannot open shared object file: No such file or directory; LD_LIBRARY_PATH: /usr/local/nvidia/lib:/usr/local/nvidia/lib64\n",
            "2023-03-18 04:06:28.840925: W tensorflow/compiler/tf2tensorrt/utils/py_utils.cc:38] TF-TRT Warning: Cannot dlopen some TensorRT libraries. If you would like to use Nvidia GPU with TensorRT, please make sure the missing libraries mentioned above are installed properly.\n",
            "2023-03-18 04:06:30.538654: E tensorflow/compiler/xla/stream_executor/cuda/cuda_driver.cc:267] failed call to cuInit: CUDA_ERROR_NO_DEVICE: no CUDA-capable device is detected\n",
            "Looking in indexes: https://pypi.org/simple, https://us-python.pkg.dev/colab-wheels/public/simple/\n",
            "Collecting en-core-web-sm==3.5.0\n",
            "  Downloading https://github.com/explosion/spacy-models/releases/download/en_core_web_sm-3.5.0/en_core_web_sm-3.5.0-py3-none-any.whl (12.8 MB)\n",
            "\u001b[2K     \u001b[90m━━━━━━━━━━━━━━━━━━━━━━━━━━━━━━━━━━━━━━━━\u001b[0m \u001b[32m12.8/12.8 MB\u001b[0m \u001b[31m54.7 MB/s\u001b[0m eta \u001b[36m0:00:00\u001b[0m\n",
            "\u001b[?25hRequirement already satisfied: spacy<3.6.0,>=3.5.0 in /usr/local/lib/python3.9/dist-packages (from en-core-web-sm==3.5.0) (3.5.1)\n",
            "Requirement already satisfied: pydantic!=1.8,!=1.8.1,<1.11.0,>=1.7.4 in /usr/local/lib/python3.9/dist-packages (from spacy<3.6.0,>=3.5.0->en-core-web-sm==3.5.0) (1.10.6)\n",
            "Requirement already satisfied: pathy>=0.10.0 in /usr/local/lib/python3.9/dist-packages (from spacy<3.6.0,>=3.5.0->en-core-web-sm==3.5.0) (0.10.1)\n",
            "Requirement already satisfied: tqdm<5.0.0,>=4.38.0 in /usr/local/lib/python3.9/dist-packages (from spacy<3.6.0,>=3.5.0->en-core-web-sm==3.5.0) (4.65.0)\n",
            "Requirement already satisfied: setuptools in /usr/local/lib/python3.9/dist-packages (from spacy<3.6.0,>=3.5.0->en-core-web-sm==3.5.0) (63.4.3)\n",
            "Requirement already satisfied: typer<0.8.0,>=0.3.0 in /usr/local/lib/python3.9/dist-packages (from spacy<3.6.0,>=3.5.0->en-core-web-sm==3.5.0) (0.7.0)\n",
            "Requirement already satisfied: cymem<2.1.0,>=2.0.2 in /usr/local/lib/python3.9/dist-packages (from spacy<3.6.0,>=3.5.0->en-core-web-sm==3.5.0) (2.0.7)\n",
            "Requirement already satisfied: murmurhash<1.1.0,>=0.28.0 in /usr/local/lib/python3.9/dist-packages (from spacy<3.6.0,>=3.5.0->en-core-web-sm==3.5.0) (1.0.9)\n",
            "Requirement already satisfied: spacy-legacy<3.1.0,>=3.0.11 in /usr/local/lib/python3.9/dist-packages (from spacy<3.6.0,>=3.5.0->en-core-web-sm==3.5.0) (3.0.12)\n",
            "Requirement already satisfied: smart-open<7.0.0,>=5.2.1 in /usr/local/lib/python3.9/dist-packages (from spacy<3.6.0,>=3.5.0->en-core-web-sm==3.5.0) (6.3.0)\n",
            "Requirement already satisfied: wasabi<1.2.0,>=0.9.1 in /usr/local/lib/python3.9/dist-packages (from spacy<3.6.0,>=3.5.0->en-core-web-sm==3.5.0) (1.1.1)\n",
            "Requirement already satisfied: spacy-loggers<2.0.0,>=1.0.0 in /usr/local/lib/python3.9/dist-packages (from spacy<3.6.0,>=3.5.0->en-core-web-sm==3.5.0) (1.0.4)\n",
            "Requirement already satisfied: srsly<3.0.0,>=2.4.3 in /usr/local/lib/python3.9/dist-packages (from spacy<3.6.0,>=3.5.0->en-core-web-sm==3.5.0) (2.4.6)\n",
            "Requirement already satisfied: catalogue<2.1.0,>=2.0.6 in /usr/local/lib/python3.9/dist-packages (from spacy<3.6.0,>=3.5.0->en-core-web-sm==3.5.0) (2.0.8)\n",
            "Requirement already satisfied: langcodes<4.0.0,>=3.2.0 in /usr/local/lib/python3.9/dist-packages (from spacy<3.6.0,>=3.5.0->en-core-web-sm==3.5.0) (3.3.0)\n",
            "Requirement already satisfied: preshed<3.1.0,>=3.0.2 in /usr/local/lib/python3.9/dist-packages (from spacy<3.6.0,>=3.5.0->en-core-web-sm==3.5.0) (3.0.8)\n",
            "Requirement already satisfied: numpy>=1.15.0 in /usr/local/lib/python3.9/dist-packages (from spacy<3.6.0,>=3.5.0->en-core-web-sm==3.5.0) (1.22.4)\n",
            "Requirement already satisfied: thinc<8.2.0,>=8.1.8 in /usr/local/lib/python3.9/dist-packages (from spacy<3.6.0,>=3.5.0->en-core-web-sm==3.5.0) (8.1.9)\n",
            "Requirement already satisfied: packaging>=20.0 in /usr/local/lib/python3.9/dist-packages (from spacy<3.6.0,>=3.5.0->en-core-web-sm==3.5.0) (23.0)\n",
            "Requirement already satisfied: jinja2 in /usr/local/lib/python3.9/dist-packages (from spacy<3.6.0,>=3.5.0->en-core-web-sm==3.5.0) (3.1.2)\n",
            "Requirement already satisfied: requests<3.0.0,>=2.13.0 in /usr/local/lib/python3.9/dist-packages (from spacy<3.6.0,>=3.5.0->en-core-web-sm==3.5.0) (2.27.1)\n",
            "Requirement already satisfied: typing-extensions>=4.2.0 in /usr/local/lib/python3.9/dist-packages (from pydantic!=1.8,!=1.8.1,<1.11.0,>=1.7.4->spacy<3.6.0,>=3.5.0->en-core-web-sm==3.5.0) (4.5.0)\n",
            "Requirement already satisfied: urllib3<1.27,>=1.21.1 in /usr/local/lib/python3.9/dist-packages (from requests<3.0.0,>=2.13.0->spacy<3.6.0,>=3.5.0->en-core-web-sm==3.5.0) (1.26.15)\n",
            "Requirement already satisfied: certifi>=2017.4.17 in /usr/local/lib/python3.9/dist-packages (from requests<3.0.0,>=2.13.0->spacy<3.6.0,>=3.5.0->en-core-web-sm==3.5.0) (2022.12.7)\n",
            "Requirement already satisfied: charset-normalizer~=2.0.0 in /usr/local/lib/python3.9/dist-packages (from requests<3.0.0,>=2.13.0->spacy<3.6.0,>=3.5.0->en-core-web-sm==3.5.0) (2.0.12)\n",
            "Requirement already satisfied: idna<4,>=2.5 in /usr/local/lib/python3.9/dist-packages (from requests<3.0.0,>=2.13.0->spacy<3.6.0,>=3.5.0->en-core-web-sm==3.5.0) (3.4)\n",
            "Requirement already satisfied: confection<1.0.0,>=0.0.1 in /usr/local/lib/python3.9/dist-packages (from thinc<8.2.0,>=8.1.8->spacy<3.6.0,>=3.5.0->en-core-web-sm==3.5.0) (0.0.4)\n",
            "Requirement already satisfied: blis<0.8.0,>=0.7.8 in /usr/local/lib/python3.9/dist-packages (from thinc<8.2.0,>=8.1.8->spacy<3.6.0,>=3.5.0->en-core-web-sm==3.5.0) (0.7.9)\n",
            "Requirement already satisfied: click<9.0.0,>=7.1.1 in /usr/local/lib/python3.9/dist-packages (from typer<0.8.0,>=0.3.0->spacy<3.6.0,>=3.5.0->en-core-web-sm==3.5.0) (8.1.3)\n",
            "Requirement already satisfied: MarkupSafe>=2.0 in /usr/local/lib/python3.9/dist-packages (from jinja2->spacy<3.6.0,>=3.5.0->en-core-web-sm==3.5.0) (2.1.2)\n",
            "\u001b[38;5;2m✔ Download and installation successful\u001b[0m\n",
            "You can now load the package via spacy.load('en_core_web_sm')\n"
          ]
        }
      ],
      "source": [
        "\n",
        "!pip install -U spacy\n",
        "!python -m spacy download en_core_web_sm"
      ]
    },
    {
      "cell_type": "code",
      "execution_count": null,
      "metadata": {
        "colab": {
          "base_uri": "https://localhost:8080/"
        },
        "id": "t3p01vFLRoAN",
        "outputId": "27c482f6-c02b-4456-9d18-e50187ab00a1"
      },
      "outputs": [
        {
          "name": "stderr",
          "output_type": "stream",
          "text": [
            "/usr/local/lib/python3.9/dist-packages/torch/cuda/__init__.py:497: UserWarning: Can't initialize NVML\n",
            "  warnings.warn(\"Can't initialize NVML\")\n"
          ]
        }
      ],
      "source": [
        "import spacy\n",
        "from spacy.lang.en.stop_words import STOP_WORDS\n",
        "from string import punctuation"
      ]
    },
    {
      "cell_type": "code",
      "execution_count": null,
      "metadata": {
        "id": "opHZp-ueRsbR"
      },
      "outputs": [],
      "source": [
        "from heapq import nlargest"
      ]
    },
    {
      "cell_type": "code",
      "execution_count": null,
      "metadata": {
        "colab": {
          "base_uri": "https://localhost:8080/"
        },
        "id": "jFQTi-UNRyJN",
        "outputId": "cb4eeaba-cfb7-474b-87ab-ac894ad7bbc4"
      },
      "outputs": [
        {
          "data": {
            "text/plain": [
              "['anyone',\n",
              " 'every',\n",
              " 'other',\n",
              " 'against',\n",
              " 'else',\n",
              " 'towards',\n",
              " 'whose',\n",
              " 'full',\n",
              " 'therefore',\n",
              " 'whole',\n",
              " 'what',\n",
              " 'least',\n",
              " 'together',\n",
              " 'already',\n",
              " \"n't\",\n",
              " 'make',\n",
              " '’d',\n",
              " 'since',\n",
              " 'unless',\n",
              " 'everyone',\n",
              " 'those',\n",
              " 'within',\n",
              " 'wherein',\n",
              " 'or',\n",
              " 'at',\n",
              " 'always',\n",
              " 'now',\n",
              " 'moreover',\n",
              " 'over',\n",
              " 'our',\n",
              " 'this',\n",
              " 'rather',\n",
              " 'hereby',\n",
              " 'third',\n",
              " 'few',\n",
              " 'per',\n",
              " 'have',\n",
              " 'his',\n",
              " '‘s',\n",
              " 'where',\n",
              " 'ten',\n",
              " 'been',\n",
              " 'go',\n",
              " 'becomes',\n",
              " 'serious',\n",
              " 'he',\n",
              " 'several',\n",
              " 'they',\n",
              " 'any',\n",
              " 'whenever',\n",
              " 'sometime',\n",
              " 'whereafter',\n",
              " \"'s\",\n",
              " 'many',\n",
              " 'we',\n",
              " 'itself',\n",
              " 'take',\n",
              " 'along',\n",
              " 'hereafter',\n",
              " 'next',\n",
              " 'but',\n",
              " '’re',\n",
              " 'until',\n",
              " 'more',\n",
              " 'without',\n",
              " 'myself',\n",
              " 'again',\n",
              " 'nobody',\n",
              " 'thereafter',\n",
              " 'themselves',\n",
              " 'and',\n",
              " 'everything',\n",
              " 'too',\n",
              " 'for',\n",
              " 'indeed',\n",
              " 'same',\n",
              " 'well',\n",
              " 'my',\n",
              " 'some',\n",
              " 'seeming',\n",
              " '’ll',\n",
              " 'name',\n",
              " 'seemed',\n",
              " 'whereupon',\n",
              " 'just',\n",
              " 'ever',\n",
              " 'beforehand',\n",
              " 'latter',\n",
              " 'see',\n",
              " 'after',\n",
              " 'doing',\n",
              " 'whereby',\n",
              " 'everywhere',\n",
              " 'ours',\n",
              " 'had',\n",
              " 'n‘t',\n",
              " 'six',\n",
              " 'alone',\n",
              " 'nor',\n",
              " 'wherever',\n",
              " 'twenty',\n",
              " 'before',\n",
              " 'empty',\n",
              " 'whither',\n",
              " 'off',\n",
              " '‘m',\n",
              " 'might',\n",
              " 'perhaps',\n",
              " 're',\n",
              " 'on',\n",
              " 'under',\n",
              " 'should',\n",
              " 'how',\n",
              " 'much',\n",
              " 'four',\n",
              " 'others',\n",
              " 'somehow',\n",
              " 'bottom',\n",
              " 'during',\n",
              " 'while',\n",
              " 'regarding',\n",
              " 'mostly',\n",
              " 'whatever',\n",
              " 'either',\n",
              " 'via',\n",
              " 'will',\n",
              " 'really',\n",
              " 'him',\n",
              " 'whether',\n",
              " 'both',\n",
              " 'among',\n",
              " 'most',\n",
              " 'n’t',\n",
              " 'often',\n",
              " 'last',\n",
              " 'used',\n",
              " '’ve',\n",
              " 'why',\n",
              " 'enough',\n",
              " 'into',\n",
              " 'anyhow',\n",
              " 'yours',\n",
              " 'the',\n",
              " 'anywhere',\n",
              " '‘d',\n",
              " 'could',\n",
              " 'own',\n",
              " 'whom',\n",
              " 'please',\n",
              " 'made',\n",
              " \"'ve\",\n",
              " 'above',\n",
              " 'somewhere',\n",
              " 'top',\n",
              " 'seem',\n",
              " 'by',\n",
              " 'give',\n",
              " 'can',\n",
              " 'throughout',\n",
              " 'about',\n",
              " 'thence',\n",
              " 'part',\n",
              " 'thru',\n",
              " 'upon',\n",
              " 'across',\n",
              " 'one',\n",
              " 'only',\n",
              " 'becoming',\n",
              " 'so',\n",
              " 'amongst',\n",
              " 'front',\n",
              " \"'m\",\n",
              " 'was',\n",
              " 'elsewhere',\n",
              " 'behind',\n",
              " 'from',\n",
              " 'eight',\n",
              " 'anything',\n",
              " '‘re',\n",
              " 'although',\n",
              " 'put',\n",
              " 'fifteen',\n",
              " 'their',\n",
              " 'three',\n",
              " 'whoever',\n",
              " 'forty',\n",
              " 'otherwise',\n",
              " 'not',\n",
              " 'further',\n",
              " 'former',\n",
              " 'latterly',\n",
              " 'her',\n",
              " 'do',\n",
              " 'each',\n",
              " 'get',\n",
              " 'may',\n",
              " 'an',\n",
              " 'here',\n",
              " 'thus',\n",
              " 'there',\n",
              " 'mine',\n",
              " 'your',\n",
              " 'thereupon',\n",
              " 'hers',\n",
              " 'to',\n",
              " 'say',\n",
              " '‘ve',\n",
              " 'noone',\n",
              " 'almost',\n",
              " 'are',\n",
              " 'is',\n",
              " 'besides',\n",
              " 'side',\n",
              " 'toward',\n",
              " 'be',\n",
              " 'onto',\n",
              " 'once',\n",
              " 'out',\n",
              " '‘ll',\n",
              " 'even',\n",
              " 'eleven',\n",
              " 'seems',\n",
              " 'himself',\n",
              " 'below',\n",
              " 'who',\n",
              " 'all',\n",
              " 'would',\n",
              " 'does',\n",
              " 'has',\n",
              " 'fifty',\n",
              " 'ca',\n",
              " 'through',\n",
              " 'become',\n",
              " 'beyond',\n",
              " 'than',\n",
              " 'i',\n",
              " 'someone',\n",
              " 'then',\n",
              " \"'re\",\n",
              " 'must',\n",
              " 'hundred',\n",
              " '’m',\n",
              " 'herself',\n",
              " 'hence',\n",
              " 'became',\n",
              " 'being',\n",
              " 'she',\n",
              " 'them',\n",
              " 'between',\n",
              " 'a',\n",
              " 'therein',\n",
              " 'nine',\n",
              " 'show',\n",
              " 'first',\n",
              " 'call',\n",
              " 'never',\n",
              " 'nowhere',\n",
              " 'did',\n",
              " 'very',\n",
              " 'various',\n",
              " 'yourself',\n",
              " 'namely',\n",
              " 'also',\n",
              " 'with',\n",
              " 'am',\n",
              " 'of',\n",
              " \"'d\",\n",
              " 'quite',\n",
              " '’s',\n",
              " 'it',\n",
              " 'nevertheless',\n",
              " 'sixty',\n",
              " 'cannot',\n",
              " 'less',\n",
              " 'you',\n",
              " 'another',\n",
              " 'meanwhile',\n",
              " 'were',\n",
              " 'yourselves',\n",
              " 'if',\n",
              " 'herein',\n",
              " 'keep',\n",
              " 'down',\n",
              " 'as',\n",
              " 'amount',\n",
              " 'hereupon',\n",
              " 'us',\n",
              " 'me',\n",
              " 'up',\n",
              " 'that',\n",
              " 'beside',\n",
              " 'formerly',\n",
              " \"'ll\",\n",
              " 'which',\n",
              " 'yet',\n",
              " 'back',\n",
              " 'something',\n",
              " 'except',\n",
              " 'five',\n",
              " 'however',\n",
              " 'still',\n",
              " 'using',\n",
              " 'afterwards',\n",
              " 'whence',\n",
              " 'done',\n",
              " 'twelve',\n",
              " 'because',\n",
              " 'such',\n",
              " 'neither',\n",
              " 'though',\n",
              " 'nothing',\n",
              " 'none',\n",
              " 'in',\n",
              " 'thereby',\n",
              " 'these',\n",
              " 'ourselves',\n",
              " 'move',\n",
              " 'its',\n",
              " 'sometimes',\n",
              " 'anyway',\n",
              " 'whereas',\n",
              " 'no',\n",
              " 'when',\n",
              " 'due',\n",
              " 'around',\n",
              " 'two']"
            ]
          },
          "execution_count": 4,
          "metadata": {},
          "output_type": "execute_result"
        }
      ],
      "source": [
        "stopwords=list(STOP_WORDS)\n",
        "stopwords"
      ]
    },
    {
      "cell_type": "code",
      "execution_count": null,
      "metadata": {
        "colab": {
          "base_uri": "https://localhost:8080/",
          "height": 35
        },
        "id": "okBxXatZR_PX",
        "outputId": "1f0e0d26-ddb7-42ce-9607-6ede0e6725d2"
      },
      "outputs": [
        {
          "data": {
            "application/vnd.google.colaboratory.intrinsic+json": {
              "type": "string"
            },
            "text/plain": [
              "'!\"#$%&\\'()*+,-./:;<=>?@[\\\\]^_`{|}~\\n'"
            ]
          },
          "execution_count": 5,
          "metadata": {},
          "output_type": "execute_result"
        }
      ],
      "source": [
        "punctuation=punctuation+'\\n'\n",
        "punctuation"
      ]
    },
    {
      "cell_type": "code",
      "execution_count": null,
      "metadata": {
        "id": "LBs4c8RRSEBg"
      },
      "outputs": [],
      "source": [
        "text=\"\"\"\n",
        "Machine learning is important because it gives enterprises a view of trends in customer behavior and business operational patterns, as well as supports the development of new products. Many of today's leading companies, such as Facebook, Google and Uber, make machine learning a central part of their operations. Machine learning has become a significant competitive differentiator for many companies.\n",
        "Classical machine learning is often categorized by how an algorithm learns to become more accurate in its predictions. There are four basic approaches:supervised learning, unsupervised learning, semi-supervised learning and reinforcement learning. The type of algorithm data scientists choose to use depends on what type of data they want to predict.\n",
        "Supervised learning: In this type of machine learning, data scientists supply algorithms with labeled training data and define the variables they want the algorithm to assess for correlations. Both the input and the output of the algorithm is specified.\n",
        "Unsupervised learning: This type of machine learning involves algorithms that train on unlabeled data. The algorithm scans through data sets looking for any meaningful connection. The data that algorithms train on as well as the predictions or recommendations they output are predetermined.\n",
        " This approach to machine learning involves a mix of the two preceding types. Data scientists may feed an algorithm mostly labeled training data, but the model is free to explore the data on its own and develop its own understanding of the data set.\n",
        "\n",
        "  Data scientists typically use reinforcement learning to teach a machine to complete a multi-step process for which there are clearly defined rules. Data scientists program an algorithm to complete a task and give it positive or negative cues as it works out how to complete a task. But for the most part, the algorithm decides on its own what steps to take along the way.\n",
        "  Supervised machine learning requires the data scientist to train the algorithm with both labeled inputs and desired outputs. Supervised learning algorithms are good for the following tasks\"\"\"\n"
      ]
    },
    {
      "cell_type": "code",
      "execution_count": null,
      "metadata": {
        "colab": {
          "base_uri": "https://localhost:8080/"
        },
        "id": "UQHp8bt_Sxiy",
        "outputId": "3ac54f19-42be-46ce-9343-6c76ec271334"
      },
      "outputs": [
        {
          "name": "stdout",
          "output_type": "stream",
          "text": [
            "/usr/local/lib/python3.9/dist-packages/torch/cuda/__init__.py:497: UserWarning: Can't initialize NVML\n",
            "  warnings.warn(\"Can't initialize NVML\")\n",
            "2023-03-18 04:07:28.145876: W tensorflow/compiler/xla/stream_executor/platform/default/dso_loader.cc:64] Could not load dynamic library 'libnvinfer.so.7'; dlerror: libnvinfer.so.7: cannot open shared object file: No such file or directory; LD_LIBRARY_PATH: /usr/local/nvidia/lib:/usr/local/nvidia/lib64\n",
            "2023-03-18 04:07:28.146010: W tensorflow/compiler/xla/stream_executor/platform/default/dso_loader.cc:64] Could not load dynamic library 'libnvinfer_plugin.so.7'; dlerror: libnvinfer_plugin.so.7: cannot open shared object file: No such file or directory; LD_LIBRARY_PATH: /usr/local/nvidia/lib:/usr/local/nvidia/lib64\n",
            "2023-03-18 04:07:28.146034: W tensorflow/compiler/tf2tensorrt/utils/py_utils.cc:38] TF-TRT Warning: Cannot dlopen some TensorRT libraries. If you would like to use Nvidia GPU with TensorRT, please make sure the missing libraries mentioned above are installed properly.\n",
            "2023-03-18 04:07:29.792862: E tensorflow/compiler/xla/stream_executor/cuda/cuda_driver.cc:267] failed call to cuInit: CUDA_ERROR_NO_DEVICE: no CUDA-capable device is detected\n",
            "Looking in indexes: https://pypi.org/simple, https://us-python.pkg.dev/colab-wheels/public/simple/\n",
            "Collecting en-core-web-lg==3.5.0\n",
            "  Downloading https://github.com/explosion/spacy-models/releases/download/en_core_web_lg-3.5.0/en_core_web_lg-3.5.0-py3-none-any.whl (587.7 MB)\n",
            "\u001b[2K     \u001b[90m━━━━━━━━━━━━━━━━━━━━━━━━━━━━━━━━━━━━━━━\u001b[0m \u001b[32m587.7/587.7 MB\u001b[0m \u001b[31m2.7 MB/s\u001b[0m eta \u001b[36m0:00:00\u001b[0m\n",
            "\u001b[?25hRequirement already satisfied: spacy<3.6.0,>=3.5.0 in /usr/local/lib/python3.9/dist-packages (from en-core-web-lg==3.5.0) (3.5.1)\n",
            "Requirement already satisfied: smart-open<7.0.0,>=5.2.1 in /usr/local/lib/python3.9/dist-packages (from spacy<3.6.0,>=3.5.0->en-core-web-lg==3.5.0) (6.3.0)\n",
            "Requirement already satisfied: numpy>=1.15.0 in /usr/local/lib/python3.9/dist-packages (from spacy<3.6.0,>=3.5.0->en-core-web-lg==3.5.0) (1.22.4)\n",
            "Requirement already satisfied: srsly<3.0.0,>=2.4.3 in /usr/local/lib/python3.9/dist-packages (from spacy<3.6.0,>=3.5.0->en-core-web-lg==3.5.0) (2.4.6)\n",
            "Requirement already satisfied: spacy-loggers<2.0.0,>=1.0.0 in /usr/local/lib/python3.9/dist-packages (from spacy<3.6.0,>=3.5.0->en-core-web-lg==3.5.0) (1.0.4)\n",
            "Requirement already satisfied: jinja2 in /usr/local/lib/python3.9/dist-packages (from spacy<3.6.0,>=3.5.0->en-core-web-lg==3.5.0) (3.1.2)\n",
            "Requirement already satisfied: langcodes<4.0.0,>=3.2.0 in /usr/local/lib/python3.9/dist-packages (from spacy<3.6.0,>=3.5.0->en-core-web-lg==3.5.0) (3.3.0)\n",
            "Requirement already satisfied: thinc<8.2.0,>=8.1.8 in /usr/local/lib/python3.9/dist-packages (from spacy<3.6.0,>=3.5.0->en-core-web-lg==3.5.0) (8.1.9)\n",
            "Requirement already satisfied: wasabi<1.2.0,>=0.9.1 in /usr/local/lib/python3.9/dist-packages (from spacy<3.6.0,>=3.5.0->en-core-web-lg==3.5.0) (1.1.1)\n",
            "Requirement already satisfied: tqdm<5.0.0,>=4.38.0 in /usr/local/lib/python3.9/dist-packages (from spacy<3.6.0,>=3.5.0->en-core-web-lg==3.5.0) (4.65.0)\n",
            "Requirement already satisfied: catalogue<2.1.0,>=2.0.6 in /usr/local/lib/python3.9/dist-packages (from spacy<3.6.0,>=3.5.0->en-core-web-lg==3.5.0) (2.0.8)\n",
            "Requirement already satisfied: typer<0.8.0,>=0.3.0 in /usr/local/lib/python3.9/dist-packages (from spacy<3.6.0,>=3.5.0->en-core-web-lg==3.5.0) (0.7.0)\n",
            "Requirement already satisfied: pathy>=0.10.0 in /usr/local/lib/python3.9/dist-packages (from spacy<3.6.0,>=3.5.0->en-core-web-lg==3.5.0) (0.10.1)\n",
            "Requirement already satisfied: preshed<3.1.0,>=3.0.2 in /usr/local/lib/python3.9/dist-packages (from spacy<3.6.0,>=3.5.0->en-core-web-lg==3.5.0) (3.0.8)\n",
            "Requirement already satisfied: cymem<2.1.0,>=2.0.2 in /usr/local/lib/python3.9/dist-packages (from spacy<3.6.0,>=3.5.0->en-core-web-lg==3.5.0) (2.0.7)\n",
            "Requirement already satisfied: murmurhash<1.1.0,>=0.28.0 in /usr/local/lib/python3.9/dist-packages (from spacy<3.6.0,>=3.5.0->en-core-web-lg==3.5.0) (1.0.9)\n",
            "Requirement already satisfied: spacy-legacy<3.1.0,>=3.0.11 in /usr/local/lib/python3.9/dist-packages (from spacy<3.6.0,>=3.5.0->en-core-web-lg==3.5.0) (3.0.12)\n",
            "Requirement already satisfied: requests<3.0.0,>=2.13.0 in /usr/local/lib/python3.9/dist-packages (from spacy<3.6.0,>=3.5.0->en-core-web-lg==3.5.0) (2.27.1)\n",
            "Requirement already satisfied: pydantic!=1.8,!=1.8.1,<1.11.0,>=1.7.4 in /usr/local/lib/python3.9/dist-packages (from spacy<3.6.0,>=3.5.0->en-core-web-lg==3.5.0) (1.10.6)\n",
            "Requirement already satisfied: setuptools in /usr/local/lib/python3.9/dist-packages (from spacy<3.6.0,>=3.5.0->en-core-web-lg==3.5.0) (63.4.3)\n",
            "Requirement already satisfied: packaging>=20.0 in /usr/local/lib/python3.9/dist-packages (from spacy<3.6.0,>=3.5.0->en-core-web-lg==3.5.0) (23.0)\n",
            "Requirement already satisfied: typing-extensions>=4.2.0 in /usr/local/lib/python3.9/dist-packages (from pydantic!=1.8,!=1.8.1,<1.11.0,>=1.7.4->spacy<3.6.0,>=3.5.0->en-core-web-lg==3.5.0) (4.5.0)\n",
            "Requirement already satisfied: certifi>=2017.4.17 in /usr/local/lib/python3.9/dist-packages (from requests<3.0.0,>=2.13.0->spacy<3.6.0,>=3.5.0->en-core-web-lg==3.5.0) (2022.12.7)\n",
            "Requirement already satisfied: charset-normalizer~=2.0.0 in /usr/local/lib/python3.9/dist-packages (from requests<3.0.0,>=2.13.0->spacy<3.6.0,>=3.5.0->en-core-web-lg==3.5.0) (2.0.12)\n",
            "Requirement already satisfied: urllib3<1.27,>=1.21.1 in /usr/local/lib/python3.9/dist-packages (from requests<3.0.0,>=2.13.0->spacy<3.6.0,>=3.5.0->en-core-web-lg==3.5.0) (1.26.15)\n",
            "Requirement already satisfied: idna<4,>=2.5 in /usr/local/lib/python3.9/dist-packages (from requests<3.0.0,>=2.13.0->spacy<3.6.0,>=3.5.0->en-core-web-lg==3.5.0) (3.4)\n",
            "Requirement already satisfied: blis<0.8.0,>=0.7.8 in /usr/local/lib/python3.9/dist-packages (from thinc<8.2.0,>=8.1.8->spacy<3.6.0,>=3.5.0->en-core-web-lg==3.5.0) (0.7.9)\n",
            "Requirement already satisfied: confection<1.0.0,>=0.0.1 in /usr/local/lib/python3.9/dist-packages (from thinc<8.2.0,>=8.1.8->spacy<3.6.0,>=3.5.0->en-core-web-lg==3.5.0) (0.0.4)\n",
            "Requirement already satisfied: click<9.0.0,>=7.1.1 in /usr/local/lib/python3.9/dist-packages (from typer<0.8.0,>=0.3.0->spacy<3.6.0,>=3.5.0->en-core-web-lg==3.5.0) (8.1.3)\n",
            "Requirement already satisfied: MarkupSafe>=2.0 in /usr/local/lib/python3.9/dist-packages (from jinja2->spacy<3.6.0,>=3.5.0->en-core-web-lg==3.5.0) (2.1.2)\n",
            "Installing collected packages: en-core-web-lg\n",
            "Successfully installed en-core-web-lg-3.5.0\n",
            "\u001b[38;5;2m✔ Download and installation successful\u001b[0m\n",
            "You can now load the package via spacy.load('en_core_web_lg')\n"
          ]
        }
      ],
      "source": [
        "!python -m spacy download en_core_web_lg"
      ]
    },
    {
      "cell_type": "code",
      "execution_count": null,
      "metadata": {
        "id": "hkcmRkTpS3dl"
      },
      "outputs": [],
      "source": [
        "import spacy\n",
        "nlp = spacy.load('en_core_web_lg')"
      ]
    },
    {
      "cell_type": "code",
      "execution_count": null,
      "metadata": {
        "id": "RH-K9BNpS7XK"
      },
      "outputs": [],
      "source": [
        "doc=nlp(text)"
      ]
    },
    {
      "cell_type": "code",
      "execution_count": null,
      "metadata": {
        "colab": {
          "base_uri": "https://localhost:8080/"
        },
        "id": "6qSLNDPHS-Ns",
        "outputId": "22503c90-6f28-4eeb-859c-33e123e30896"
      },
      "outputs": [
        {
          "name": "stdout",
          "output_type": "stream",
          "text": [
            "['\\n', 'Machine', 'learning', 'is', 'important', 'because', 'it', 'gives', 'enterprises', 'a', 'view', 'of', 'trends', 'in', 'customer', 'behavior', 'and', 'business', 'operational', 'patterns', ',', 'as', 'well', 'as', 'supports', 'the', 'development', 'of', 'new', 'products', '.', 'Many', 'of', 'today', \"'s\", 'leading', 'companies', ',', 'such', 'as', 'Facebook', ',', 'Google', 'and', 'Uber', ',', 'make', 'machine', 'learning', 'a', 'central', 'part', 'of', 'their', 'operations', '.', 'Machine', 'learning', 'has', 'become', 'a', 'significant', 'competitive', 'differentiator', 'for', 'many', 'companies', '.', '\\n', 'Classical', 'machine', 'learning', 'is', 'often', 'categorized', 'by', 'how', 'an', 'algorithm', 'learns', 'to', 'become', 'more', 'accurate', 'in', 'its', 'predictions', '.', 'There', 'are', 'four', 'basic', 'approaches', ':', 'supervised', 'learning', ',', 'unsupervised', 'learning', ',', 'semi', '-', 'supervised', 'learning', 'and', 'reinforcement', 'learning', '.', 'The', 'type', 'of', 'algorithm', 'data', 'scientists', 'choose', 'to', 'use', 'depends', 'on', 'what', 'type', 'of', 'data', 'they', 'want', 'to', 'predict', '.', '\\n', 'Supervised', 'learning', ':', 'In', 'this', 'type', 'of', 'machine', 'learning', ',', 'data', 'scientists', 'supply', 'algorithms', 'with', 'labeled', 'training', 'data', 'and', 'define', 'the', 'variables', 'they', 'want', 'the', 'algorithm', 'to', 'assess', 'for', 'correlations', '.', 'Both', 'the', 'input', 'and', 'the', 'output', 'of', 'the', 'algorithm', 'is', 'specified', '.', '\\n', 'Unsupervised', 'learning', ':', 'This', 'type', 'of', 'machine', 'learning', 'involves', 'algorithms', 'that', 'train', 'on', 'unlabeled', 'data', '.', 'The', 'algorithm', 'scans', 'through', 'data', 'sets', 'looking', 'for', 'any', 'meaningful', 'connection', '.', 'The', 'data', 'that', 'algorithms', 'train', 'on', 'as', 'well', 'as', 'the', 'predictions', 'or', 'recommendations', 'they', 'output', 'are', 'predetermined', '.', '\\n ', 'This', 'approach', 'to', 'machine', 'learning', 'involves', 'a', 'mix', 'of', 'the', 'two', 'preceding', 'types', '.', 'Data', 'scientists', 'may', 'feed', 'an', 'algorithm', 'mostly', 'labeled', 'training', 'data', ',', 'but', 'the', 'model', 'is', 'free', 'to', 'explore', 'the', 'data', 'on', 'its', 'own', 'and', 'develop', 'its', 'own', 'understanding', 'of', 'the', 'data', 'set', '.', '\\n\\n  ', 'Data', 'scientists', 'typically', 'use', 'reinforcement', 'learning', 'to', 'teach', 'a', 'machine', 'to', 'complete', 'a', 'multi', '-', 'step', 'process', 'for', 'which', 'there', 'are', 'clearly', 'defined', 'rules', '.', 'Data', 'scientists', 'program', 'an', 'algorithm', 'to', 'complete', 'a', 'task', 'and', 'give', 'it', 'positive', 'or', 'negative', 'cues', 'as', 'it', 'works', 'out', 'how', 'to', 'complete', 'a', 'task', '.', 'But', 'for', 'the', 'most', 'part', ',', 'the', 'algorithm', 'decides', 'on', 'its', 'own', 'what', 'steps', 'to', 'take', 'along', 'the', 'way', '.', '\\n  ', 'Supervised', 'machine', 'learning', 'requires', 'the', 'data', 'scientist', 'to', 'train', 'the', 'algorithm', 'with', 'both', 'labeled', 'inputs', 'and', 'desired', 'outputs', '.', 'Supervised', 'learning', 'algorithms', 'are', 'good', 'for', 'the', 'following', 'tasks']\n"
          ]
        }
      ],
      "source": [
        "tokens=[token.text for token in doc]\n",
        "print(tokens)"
      ]
    },
    {
      "cell_type": "code",
      "execution_count": null,
      "metadata": {
        "colab": {
          "base_uri": "https://localhost:8080/"
        },
        "id": "PQ7dQOmtTDVb",
        "outputId": "01e71a41-569c-414c-d58a-a99f6733035c"
      },
      "outputs": [
        {
          "name": "stdout",
          "output_type": "stream",
          "text": [
            "{'Machine': 2, 'learning': 16, 'important': 1, 'gives': 1, 'enterprises': 1, 'view': 1, 'trends': 1, 'customer': 1, 'behavior': 1, 'business': 1, 'operational': 1, 'patterns': 1, 'supports': 1, 'development': 1, 'new': 1, 'products': 1, 'today': 1, 'leading': 1, 'companies': 2, 'Facebook': 1, 'Google': 1, 'Uber': 1, 'machine': 7, 'central': 1, 'operations': 1, 'significant': 1, 'competitive': 1, 'differentiator': 1, 'Classical': 1, 'categorized': 1, 'algorithm': 9, 'learns': 1, 'accurate': 1, 'predictions': 2, 'basic': 1, 'approaches': 1, 'supervised': 2, 'unsupervised': 1, 'semi': 1, 'reinforcement': 2, 'type': 4, 'data': 11, 'scientists': 5, 'choose': 1, 'use': 2, 'depends': 1, 'want': 2, 'predict': 1, 'Supervised': 3, 'supply': 1, 'algorithms': 4, 'labeled': 3, 'training': 2, 'define': 1, 'variables': 1, 'assess': 1, 'correlations': 1, 'input': 1, 'output': 2, 'specified': 1, 'Unsupervised': 1, 'involves': 2, 'train': 3, 'unlabeled': 1, 'scans': 1, 'sets': 1, 'looking': 1, 'meaningful': 1, 'connection': 1, 'recommendations': 1, 'predetermined': 1, '\\n ': 1, 'approach': 1, 'mix': 1, 'preceding': 1, 'types': 1, 'Data': 3, 'feed': 1, 'model': 1, 'free': 1, 'explore': 1, 'develop': 1, 'understanding': 1, 'set': 1, '\\n\\n  ': 1, 'typically': 1, 'teach': 1, 'complete': 3, 'multi': 1, 'step': 1, 'process': 1, 'clearly': 1, 'defined': 1, 'rules': 1, 'program': 1, 'task': 2, 'positive': 1, 'negative': 1, 'cues': 1, 'works': 1, 'decides': 1, 'steps': 1, 'way': 1, '\\n  ': 1, 'requires': 1, 'scientist': 1, 'inputs': 1, 'desired': 1, 'outputs': 1, 'good': 1, 'following': 1, 'tasks': 1}\n"
          ]
        }
      ],
      "source": [
        "word_frequencies={}\n",
        "for word in doc:\n",
        "  if word.text.lower() not in stopwords:\n",
        "    if word.text.lower() not in punctuation:\n",
        "      if word.text not in word_frequencies.keys():\n",
        "        word_frequencies[word.text]=1\n",
        "      else:\n",
        "        word_frequencies[word.text]+=1\n",
        "print(word_frequencies)"
      ]
    },
    {
      "cell_type": "code",
      "execution_count": null,
      "metadata": {
        "id": "5yMcnHNjTHAw"
      },
      "outputs": [],
      "source": [
        "max_frequency=max(word_frequencies.values())\n",
        "max_frequency"
      ]
    },
    {
      "cell_type": "code",
      "execution_count": null,
      "metadata": {
        "colab": {
          "background_save": true,
          "base_uri": "https://localhost:8080/"
        },
        "id": "srECteJPTPSR",
        "outputId": "bbecf167-bc18-4683-c57b-a3f70b87a62f"
      },
      "outputs": [
        {
          "name": "stdout",
          "output_type": "stream",
          "text": [
            "Machine \n",
            "0.125\n",
            "learning \n",
            "1.0\n",
            "important \n",
            "0.0625\n",
            "gives \n",
            "0.0625\n",
            "enterprises \n",
            "0.0625\n",
            "view \n",
            "0.0625\n",
            "trends \n",
            "0.0625\n",
            "customer \n",
            "0.0625\n",
            "behavior \n",
            "0.0625\n",
            "business \n",
            "0.0625\n",
            "operational \n",
            "0.0625\n",
            "patterns \n",
            "0.0625\n",
            "supports \n",
            "0.0625\n",
            "development \n",
            "0.0625\n",
            "new \n",
            "0.0625\n",
            "products \n",
            "0.0625\n",
            "today \n",
            "0.0625\n",
            "leading \n",
            "0.0625\n",
            "companies \n",
            "0.125\n",
            "Facebook \n",
            "0.0625\n",
            "Google \n",
            "0.0625\n",
            "Uber \n",
            "0.0625\n",
            "machine \n",
            "0.4375\n",
            "central \n",
            "0.0625\n",
            "operations \n",
            "0.0625\n",
            "significant \n",
            "0.0625\n",
            "competitive \n",
            "0.0625\n",
            "differentiator \n",
            "0.0625\n",
            "Classical \n",
            "0.0625\n",
            "categorized \n",
            "0.0625\n",
            "algorithm \n",
            "0.5625\n",
            "learns \n",
            "0.0625\n",
            "accurate \n",
            "0.0625\n",
            "predictions \n",
            "0.125\n",
            "basic \n",
            "0.0625\n",
            "approaches \n",
            "0.0625\n",
            "supervised \n",
            "0.125\n",
            "unsupervised \n",
            "0.0625\n",
            "semi \n",
            "0.0625\n",
            "reinforcement \n",
            "0.125\n",
            "type \n",
            "0.25\n",
            "data \n",
            "0.6875\n",
            "scientists \n",
            "0.3125\n",
            "choose \n",
            "0.0625\n",
            "use \n",
            "0.125\n",
            "depends \n",
            "0.0625\n",
            "want \n",
            "0.125\n",
            "predict \n",
            "0.0625\n",
            "Supervised \n",
            "0.1875\n",
            "supply \n",
            "0.0625\n",
            "algorithms \n",
            "0.25\n",
            "labeled \n",
            "0.1875\n",
            "training \n",
            "0.125\n",
            "define \n",
            "0.0625\n",
            "variables \n",
            "0.0625\n",
            "assess \n",
            "0.0625\n",
            "correlations \n",
            "0.0625\n",
            "input \n",
            "0.0625\n",
            "output \n",
            "0.125\n",
            "specified \n",
            "0.0625\n",
            "Unsupervised \n",
            "0.0625\n",
            "involves \n",
            "0.125\n",
            "train \n",
            "0.1875\n",
            "unlabeled \n",
            "0.0625\n",
            "scans \n",
            "0.0625\n",
            "sets \n",
            "0.0625\n",
            "looking \n",
            "0.0625\n",
            "meaningful \n",
            "0.0625\n",
            "connection \n",
            "0.0625\n",
            "recommendations \n",
            "0.0625\n",
            "predetermined \n",
            "0.0625\n",
            "\n",
            "  \n",
            "0.0625\n",
            "approach \n",
            "0.0625\n",
            "mix \n",
            "0.0625\n",
            "preceding \n",
            "0.0625\n",
            "types \n",
            "0.0625\n",
            "Data \n",
            "0.1875\n",
            "feed \n",
            "0.0625\n",
            "model \n",
            "0.0625\n",
            "free \n",
            "0.0625\n",
            "explore \n",
            "0.0625\n",
            "develop \n",
            "0.0625\n",
            "understanding \n",
            "0.0625\n",
            "set \n",
            "0.0625\n",
            "\n",
            "\n",
            "   \n",
            "0.0625\n",
            "typically \n",
            "0.0625\n",
            "teach \n",
            "0.0625\n",
            "complete \n",
            "0.1875\n",
            "multi \n",
            "0.0625\n",
            "step \n",
            "0.0625\n",
            "process \n",
            "0.0625\n",
            "clearly \n",
            "0.0625\n",
            "defined \n",
            "0.0625\n",
            "rules \n",
            "0.0625\n",
            "program \n",
            "0.0625\n",
            "task \n",
            "0.125\n",
            "positive \n",
            "0.0625\n",
            "negative \n",
            "0.0625\n",
            "cues \n",
            "0.0625\n",
            "works \n",
            "0.0625\n",
            "decides \n",
            "0.0625\n",
            "steps \n",
            "0.0625\n",
            "way \n",
            "0.0625\n",
            "\n",
            "   \n",
            "0.0625\n",
            "requires \n",
            "0.0625\n",
            "scientist \n",
            "0.0625\n",
            "inputs \n",
            "0.0625\n",
            "desired \n",
            "0.0625\n",
            "outputs \n",
            "0.0625\n",
            "good \n",
            "0.0625\n",
            "following \n",
            "0.0625\n",
            "tasks \n",
            "0.0625\n"
          ]
        }
      ],
      "source": [
        "for word in word_frequencies.keys():\n",
        "  word_frequencies[word]=word_frequencies[word]/max_frequency\n",
        "  print(word+\" \")\n",
        "  print(word_frequencies[word])"
      ]
    },
    {
      "cell_type": "code",
      "execution_count": null,
      "metadata": {
        "colab": {
          "base_uri": "https://localhost:8080/"
        },
        "id": "DRnkmmUaTWW7",
        "outputId": "867f3a3d-e6c4-4c7c-d453-21e0d00f1c3c"
      },
      "outputs": [
        {
          "name": "stdout",
          "output_type": "stream",
          "text": [
            "[\n",
            "Machine learning is important because it gives enterprises a view of trends in customer behavior and business operational patterns, as well as supports the development of new products., Many of today's leading companies, such as Facebook, Google and Uber, make machine learning a central part of their operations., Machine learning has become a significant competitive differentiator for many companies.\n",
            ", Classical machine learning is often categorized by how an algorithm learns to become more accurate in its predictions., There are four basic approaches:supervised learning, unsupervised learning, semi-supervised learning and reinforcement learning., The type of algorithm data scientists choose to use depends on what type of data they want to predict.\n",
            ", Supervised learning:, In this type of machine learning, data scientists supply algorithms with labeled training data and define the variables they want the algorithm to assess for correlations., Both the input and the output of the algorithm is specified.\n",
            ", Unsupervised learning: This type of machine learning involves algorithms that train on unlabeled data., The algorithm scans through data sets looking for any meaningful connection., The data that algorithms train on as well as the predictions or recommendations they output are predetermined.\n",
            " , This approach to machine learning involves a mix of the two preceding types., Data scientists may feed an algorithm mostly labeled training data, but the model is free to explore the data on its own and develop its own understanding of the data set.\n",
            "\n",
            "  , Data scientists typically use reinforcement learning to teach a machine to complete a multi-step process for which there are clearly defined rules., Data scientists program an algorithm to complete a task and give it positive or negative cues as it works out how to complete a task., But for the most part, the algorithm decides on its own what steps to take along the way.\n",
            "  , Supervised machine learning requires the data scientist to train the algorithm with both labeled inputs and desired outputs., Supervised learning algorithms are good for the following tasks]\n"
          ]
        }
      ],
      "source": [
        "sentence_tokens=[sent for sent in doc.sents]\n",
        "print(sentence_tokens)"
      ]
    },
    {
      "cell_type": "code",
      "execution_count": null,
      "metadata": {
        "colab": {
          "base_uri": "https://localhost:8080/"
        },
        "id": "4tAP3aAiTY3U",
        "outputId": "3bb6fcfa-40d3-4b78-85f5-611aca405093"
      },
      "outputs": [
        {
          "data": {
            "text/plain": [
              "{\n",
              " Machine learning is important because it gives enterprises a view of trends in customer behavior and business operational patterns, as well as supports the development of new products.: 2.3125,\n",
              " Many of today's leading companies, such as Facebook, Google and Uber, make machine learning a central part of their operations.: 1.8125,\n",
              " Machine learning has become a significant competitive differentiator for many companies.: 1.75,\n",
              " Classical machine learning is often categorized by how an algorithm learns to become more accurate in its predictions.: 2.3125,\n",
              " There are four basic approaches:supervised learning, unsupervised learning, semi-supervised learning and reinforcement learning.: 4.625,\n",
              " The type of algorithm data scientists choose to use depends on what type of data they want to predict.: 3.1875,\n",
              " Supervised learning:: 1.125,\n",
              " In this type of machine learning, data scientists supply algorithms with labeled training data and define the variables they want the algorithm to assess for correlations.: 4.9375,\n",
              " Both the input and the output of the algorithm is specified.: 0.8125,\n",
              " Unsupervised learning: This type of machine learning involves algorithms that train on unlabeled data.: 4.0625,\n",
              " The algorithm scans through data sets looking for any meaningful connection.: 1.5625,\n",
              " The data that algorithms train on as well as the predictions or recommendations they output are predetermined.\n",
              "  : 1.5625,\n",
              " This approach to machine learning involves a mix of the two preceding types.: 1.8125,\n",
              " Data scientists may feed an algorithm mostly labeled training data, but the model is free to explore the data on its own and develop its own understanding of the data set.\n",
              " \n",
              "   : 4.4375,\n",
              " Data scientists typically use reinforcement learning to teach a machine to complete a multi-step process for which there are clearly defined rules.: 3.375,\n",
              " Data scientists program an algorithm to complete a task and give it positive or negative cues as it works out how to complete a task.: 2.5,\n",
              " But for the most part, the algorithm decides on its own what steps to take along the way.\n",
              "   : 0.8125,\n",
              " Supervised machine learning requires the data scientist to train the algorithm with both labeled inputs and desired outputs.: 3.5,\n",
              " Supervised learning algorithms are good for the following tasks: 1.5625}"
            ]
          },
          "execution_count": 45,
          "metadata": {},
          "output_type": "execute_result"
        }
      ],
      "source": [
        "sentence_scores={}\n",
        "for sent in sentence_tokens:\n",
        "  for word in sent:\n",
        "    if word.text.lower() in word_frequencies.keys():\n",
        "      if sent not in sentence_scores.keys():\n",
        "        sentence_scores[sent]=word_frequencies[word.text.lower()]\n",
        "      else:\n",
        "        sentence_scores[sent]+=word_frequencies[word.text.lower()]\n",
        "sentence_scores"
      ]
    },
    {
      "cell_type": "code",
      "execution_count": null,
      "metadata": {
        "colab": {
          "base_uri": "https://localhost:8080/"
        },
        "id": "89c3eIz6TeqA",
        "outputId": "1940b150-3fbc-4cda-f84e-b9965e4f96b3"
      },
      "outputs": [
        {
          "data": {
            "text/plain": [
              "9"
            ]
          },
          "execution_count": 46,
          "metadata": {},
          "output_type": "execute_result"
        }
      ],
      "source": [
        "select_length=int(len(sentence_tokens)*0.5)\n",
        "select_length"
      ]
    },
    {
      "cell_type": "code",
      "execution_count": null,
      "metadata": {
        "colab": {
          "base_uri": "https://localhost:8080/"
        },
        "id": "sklOqM5TTjKo",
        "outputId": "b8528243-5d77-4418-de92-6da5e22d7fe9"
      },
      "outputs": [
        {
          "data": {
            "text/plain": [
              "[In this type of machine learning, data scientists supply algorithms with labeled training data and define the variables they want the algorithm to assess for correlations.,\n",
              " There are four basic approaches:supervised learning, unsupervised learning, semi-supervised learning and reinforcement learning.,\n",
              " Data scientists may feed an algorithm mostly labeled training data, but the model is free to explore the data on its own and develop its own understanding of the data set.\n",
              " \n",
              "   ,\n",
              " Unsupervised learning: This type of machine learning involves algorithms that train on unlabeled data.,\n",
              " Supervised machine learning requires the data scientist to train the algorithm with both labeled inputs and desired outputs.,\n",
              " Data scientists typically use reinforcement learning to teach a machine to complete a multi-step process for which there are clearly defined rules.,\n",
              " The type of algorithm data scientists choose to use depends on what type of data they want to predict.,\n",
              " Data scientists program an algorithm to complete a task and give it positive or negative cues as it works out how to complete a task.,\n",
              " \n",
              " Machine learning is important because it gives enterprises a view of trends in customer behavior and business operational patterns, as well as supports the development of new products.]"
            ]
          },
          "execution_count": 47,
          "metadata": {},
          "output_type": "execute_result"
        }
      ],
      "source": [
        "summary=nlargest(select_length,sentence_scores,key=sentence_scores.get)\n",
        "summary"
      ]
    },
    {
      "cell_type": "code",
      "execution_count": null,
      "metadata": {
        "id": "hroxVQ_ZTrjc"
      },
      "outputs": [],
      "source": [
        "final_summary=[word.text for word in summary]\n",
        "summary=''.join(final_summary)"
      ]
    },
    {
      "cell_type": "code",
      "execution_count": null,
      "metadata": {
        "colab": {
          "base_uri": "https://localhost:8080/"
        },
        "id": "pdTvMnV5Tw2G",
        "outputId": "3f556057-2511-4791-8f21-18009f6a4062"
      },
      "outputs": [
        {
          "name": "stdout",
          "output_type": "stream",
          "text": [
            "\n",
            "Machine learning is important because it gives enterprises a view of trends in customer behavior and business operational patterns, as well as supports the development of new products. Many of today's leading companies, such as Facebook, Google and Uber, make machine learning a central part of their operations. Machine learning has become a significant competitive differentiator for many companies.\n",
            "Classical machine learning is often categorized by how an algorithm learns to become more accurate in its predictions. There are four basic approaches:supervised learning, unsupervised learning, semi-supervised learning and reinforcement learning. The type of algorithm data scientists choose to use depends on what type of data they want to predict.\n",
            "Supervised learning: In this type of machine learning, data scientists supply algorithms with labeled training data and define the variables they want the algorithm to assess for correlations. Both the input and the output of the algorithm is specified.\n",
            "Unsupervised learning: This type of machine learning involves algorithms that train on unlabeled data. The algorithm scans through data sets looking for any meaningful connection. The data that algorithms train on as well as the predictions or recommendations they output are predetermined.\n",
            " This approach to machine learning involves a mix of the two preceding types. Data scientists may feed an algorithm mostly labeled training data, but the model is free to explore the data on its own and develop its own understanding of the data set.\n",
            "\n",
            "  Data scientists typically use reinforcement learning to teach a machine to complete a multi-step process for which there are clearly defined rules. Data scientists program an algorithm to complete a task and give it positive or negative cues as it works out how to complete a task. But for the most part, the algorithm decides on its own what steps to take along the way.\n",
            "  Supervised machine learning requires the data scientist to train the algorithm with both labeled inputs and desired outputs. Supervised learning algorithms are good for the following tasks\n"
          ]
        }
      ],
      "source": [
        "print(text)"
      ]
    },
    {
      "cell_type": "code",
      "execution_count": null,
      "metadata": {
        "colab": {
          "base_uri": "https://localhost:8080/"
        },
        "id": "OMplwNj4T1Vy",
        "outputId": "30c8a506-3e13-41f7-c710-b43f92801dc4"
      },
      "outputs": [
        {
          "name": "stdout",
          "output_type": "stream",
          "text": [
            "In this type of machine learning, data scientists supply algorithms with labeled training data and define the variables they want the algorithm to assess for correlations.There are four basic approaches:supervised learning, unsupervised learning, semi-supervised learning and reinforcement learning.Data scientists may feed an algorithm mostly labeled training data, but the model is free to explore the data on its own and develop its own understanding of the data set.\n",
            "\n",
            "  Unsupervised learning: This type of machine learning involves algorithms that train on unlabeled data.Supervised machine learning requires the data scientist to train the algorithm with both labeled inputs and desired outputs.Data scientists typically use reinforcement learning to teach a machine to complete a multi-step process for which there are clearly defined rules.The type of algorithm data scientists choose to use depends on what type of data they want to predict.\n",
            "Data scientists program an algorithm to complete a task and give it positive or negative cues as it works out how to complete a task.\n",
            "Machine learning is important because it gives enterprises a view of trends in customer behavior and business operational patterns, as well as supports the development of new products.\n"
          ]
        }
      ],
      "source": [
        "print(summary)"
      ]
    },
    {
      "cell_type": "code",
      "execution_count": null,
      "metadata": {
        "colab": {
          "base_uri": "https://localhost:8080/"
        },
        "id": "UIPmkY2eT5VW",
        "outputId": "b1a422c0-d5eb-4e02-c2bd-6e85f88fdaec"
      },
      "outputs": [
        {
          "name": "stdout",
          "output_type": "stream",
          "text": [
            "2114\n"
          ]
        }
      ],
      "source": [
        "print(len(text))"
      ]
    },
    {
      "cell_type": "code",
      "execution_count": null,
      "metadata": {
        "colab": {
          "base_uri": "https://localhost:8080/"
        },
        "id": "p-pNnTnlT-2q",
        "outputId": "1e25271c-8643-4074-aeb0-bdfb1c161a50"
      },
      "outputs": [
        {
          "name": "stdout",
          "output_type": "stream",
          "text": [
            "1268\n"
          ]
        }
      ],
      "source": [
        "print(len(summary))"
      ]
    }
  ],
  "metadata": {
    "colab": {
      "provenance": []
    },
    "kernelspec": {
      "display_name": "Python 3",
      "name": "python3"
    },
    "language_info": {
      "name": "python"
    }
  },
  "nbformat": 4,
  "nbformat_minor": 0
}